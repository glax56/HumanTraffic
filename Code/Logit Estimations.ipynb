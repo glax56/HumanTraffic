{
 "cells": [
  {
   "cell_type": "code",
   "execution_count": 1,
   "id": "804483e9",
   "metadata": {},
   "outputs": [
    {
     "name": "stderr",
     "output_type": "stream",
     "text": [
      "Warning message:\n",
      "\"package 'dplyr' was built under R version 4.2.3\"\n",
      "\n",
      "Attaching package: 'dplyr'\n",
      "\n",
      "\n",
      "The following objects are masked from 'package:stats':\n",
      "\n",
      "    filter, lag\n",
      "\n",
      "\n",
      "The following objects are masked from 'package:base':\n",
      "\n",
      "    intersect, setdiff, setequal, union\n",
      "\n",
      "\n",
      "Warning message:\n",
      "\"package 'tidyr' was built under R version 4.2.2\"\n",
      "Warning message:\n",
      "\"package 'tidyverse' was built under R version 4.2.3\"\n",
      "Warning message:\n",
      "\"package 'ggplot2' was built under R version 4.2.3\"\n",
      "Warning message:\n",
      "\"package 'tibble' was built under R version 4.2.3\"\n",
      "Warning message:\n",
      "\"package 'readr' was built under R version 4.2.2\"\n",
      "Warning message:\n",
      "\"package 'purrr' was built under R version 4.2.2\"\n",
      "Warning message:\n",
      "\"package 'stringr' was built under R version 4.2.2\"\n",
      "Warning message:\n",
      "\"package 'forcats' was built under R version 4.2.3\"\n",
      "Warning message:\n",
      "\"package 'lubridate' was built under R version 4.2.2\"\n",
      "── \u001b[1mAttaching core tidyverse packages\u001b[22m ──────────────────────── tidyverse 2.0.0 ──\n",
      "\u001b[32m✔\u001b[39m \u001b[34mforcats  \u001b[39m 1.0.0     \u001b[32m✔\u001b[39m \u001b[34mreadr    \u001b[39m 2.1.4\n",
      "\u001b[32m✔\u001b[39m \u001b[34mggplot2  \u001b[39m 3.4.2     \u001b[32m✔\u001b[39m \u001b[34mstringr  \u001b[39m 1.5.0\n",
      "\u001b[32m✔\u001b[39m \u001b[34mlubridate\u001b[39m 1.9.2     \u001b[32m✔\u001b[39m \u001b[34mtibble   \u001b[39m 3.2.1\n",
      "\u001b[32m✔\u001b[39m \u001b[34mpurrr    \u001b[39m 1.0.1     \n",
      "── \u001b[1mConflicts\u001b[22m ────────────────────────────────────────── tidyverse_conflicts() ──\n",
      "\u001b[31m✖\u001b[39m \u001b[34mdplyr\u001b[39m::\u001b[32mfilter()\u001b[39m masks \u001b[34mstats\u001b[39m::filter()\n",
      "\u001b[31m✖\u001b[39m \u001b[34mdplyr\u001b[39m::\u001b[32mlag()\u001b[39m    masks \u001b[34mstats\u001b[39m::lag()\n",
      "\u001b[36mℹ\u001b[39m Use the conflicted package (\u001b[3m\u001b[34m<http://conflicted.r-lib.org/>\u001b[39m\u001b[23m) to force all conflicts to become errors\n"
     ]
    }
   ],
   "source": [
    "library(dplyr)\n",
    "library(tidyr)\n",
    "library(tidyverse)"
   ]
  },
  {
   "cell_type": "code",
   "execution_count": 2,
   "id": "635af8f9",
   "metadata": {},
   "outputs": [],
   "source": [
    "# set the working directory\n",
    "setwd(\"C:/Users/user/OneDrive/Desktop/Masters/Semester 05 - MGT-6203-Data Analytics in Business/Project/Code\")"
   ]
  },
  {
   "cell_type": "code",
   "execution_count": 3,
   "id": "e62093f3",
   "metadata": {},
   "outputs": [
    {
     "data": {
      "text/html": [
       "<table class=\"dataframe\">\n",
       "<caption>A data.frame: 6 × 37</caption>\n",
       "<thead>\n",
       "\t<tr><th></th><th scope=col>yearOfRegistration</th><th scope=col>gender</th><th scope=col>ageBroad</th><th scope=col>majorityStatusAtExploit</th><th scope=col>traffickMonths</th><th scope=col>citizenship</th><th scope=col>CountryOfExploitation</th><th scope=col>meansOfControlDebtBondage</th><th scope=col>meansOfControlTakesEarnings</th><th scope=col>meansOfControlThreats</th><th scope=col>⋯</th><th scope=col>typeOfLabourDomesticWork</th><th scope=col>typeOfLabourHospitality</th><th scope=col>typeOfLabourOther</th><th scope=col>typeOfSexProstitution</th><th scope=col>typeOfSexPornography</th><th scope=col>typeOfSexOther</th><th scope=col>recruiterRelationIntimatePartner</th><th scope=col>recruiterRelationFriend</th><th scope=col>recruiterRelationFamily</th><th scope=col>recruiterRelationOther</th></tr>\n",
       "\t<tr><th></th><th scope=col>&lt;int&gt;</th><th scope=col>&lt;chr&gt;</th><th scope=col>&lt;chr&gt;</th><th scope=col>&lt;chr&gt;</th><th scope=col>&lt;chr&gt;</th><th scope=col>&lt;chr&gt;</th><th scope=col>&lt;chr&gt;</th><th scope=col>&lt;int&gt;</th><th scope=col>&lt;int&gt;</th><th scope=col>&lt;int&gt;</th><th scope=col>⋯</th><th scope=col>&lt;int&gt;</th><th scope=col>&lt;int&gt;</th><th scope=col>&lt;int&gt;</th><th scope=col>&lt;int&gt;</th><th scope=col>&lt;int&gt;</th><th scope=col>&lt;int&gt;</th><th scope=col>&lt;int&gt;</th><th scope=col>&lt;int&gt;</th><th scope=col>&lt;int&gt;</th><th scope=col>&lt;int&gt;</th></tr>\n",
       "</thead>\n",
       "<tbody>\n",
       "\t<tr><th scope=row>1</th><td>2015</td><td>Male</td><td>30--38</td><td></td><td>13--24 (1-2 yrs)</td><td>UKR</td><td>RUS</td><td>1</td><td>1</td><td>1</td><td>⋯</td><td>NA</td><td>NA</td><td>1</td><td>NA</td><td>NA</td><td>NA</td><td>NA</td><td>NA</td><td>NA</td><td>1</td></tr>\n",
       "\t<tr><th scope=row>2</th><td>2015</td><td>Male</td><td>30--38</td><td></td><td>13--24 (1-2 yrs)</td><td>UKR</td><td>RUS</td><td>1</td><td>1</td><td>1</td><td>⋯</td><td>NA</td><td>NA</td><td>1</td><td>NA</td><td>NA</td><td>NA</td><td>NA</td><td>NA</td><td>NA</td><td>1</td></tr>\n",
       "\t<tr><th scope=row>3</th><td>2015</td><td>Male</td><td>30--38</td><td></td><td>13--24 (1-2 yrs)</td><td>UKR</td><td>RUS</td><td>1</td><td>1</td><td>1</td><td>⋯</td><td>NA</td><td>NA</td><td>1</td><td>NA</td><td>NA</td><td>NA</td><td>NA</td><td>NA</td><td>NA</td><td>1</td></tr>\n",
       "\t<tr><th scope=row>4</th><td>2015</td><td>Male</td><td>30--38</td><td></td><td>13--24 (1-2 yrs)</td><td>UKR</td><td>RUS</td><td>1</td><td>1</td><td>1</td><td>⋯</td><td>NA</td><td>NA</td><td>1</td><td>NA</td><td>NA</td><td>NA</td><td>NA</td><td>NA</td><td>NA</td><td>1</td></tr>\n",
       "\t<tr><th scope=row>5</th><td>2015</td><td>Male</td><td>30--38</td><td></td><td>13--24 (1-2 yrs)</td><td>UKR</td><td>RUS</td><td>1</td><td>1</td><td>1</td><td>⋯</td><td>NA</td><td>NA</td><td>1</td><td>NA</td><td>NA</td><td>NA</td><td>NA</td><td>NA</td><td>NA</td><td>1</td></tr>\n",
       "\t<tr><th scope=row>6</th><td>2015</td><td>Male</td><td>30--38</td><td></td><td>13--24 (1-2 yrs)</td><td>UKR</td><td>RUS</td><td>1</td><td>1</td><td>1</td><td>⋯</td><td>NA</td><td>NA</td><td>1</td><td>NA</td><td>NA</td><td>NA</td><td>NA</td><td>NA</td><td>NA</td><td>1</td></tr>\n",
       "</tbody>\n",
       "</table>\n"
      ],
      "text/latex": [
       "A data.frame: 6 × 37\n",
       "\\begin{tabular}{r|lllllllllllllllllllll}\n",
       "  & yearOfRegistration & gender & ageBroad & majorityStatusAtExploit & traffickMonths & citizenship & CountryOfExploitation & meansOfControlDebtBondage & meansOfControlTakesEarnings & meansOfControlThreats & ⋯ & typeOfLabourDomesticWork & typeOfLabourHospitality & typeOfLabourOther & typeOfSexProstitution & typeOfSexPornography & typeOfSexOther & recruiterRelationIntimatePartner & recruiterRelationFriend & recruiterRelationFamily & recruiterRelationOther\\\\\n",
       "  & <int> & <chr> & <chr> & <chr> & <chr> & <chr> & <chr> & <int> & <int> & <int> & ⋯ & <int> & <int> & <int> & <int> & <int> & <int> & <int> & <int> & <int> & <int>\\\\\n",
       "\\hline\n",
       "\t1 & 2015 & Male & 30--38 &  & 13--24 (1-2 yrs) & UKR & RUS & 1 & 1 & 1 & ⋯ & NA & NA & 1 & NA & NA & NA & NA & NA & NA & 1\\\\\n",
       "\t2 & 2015 & Male & 30--38 &  & 13--24 (1-2 yrs) & UKR & RUS & 1 & 1 & 1 & ⋯ & NA & NA & 1 & NA & NA & NA & NA & NA & NA & 1\\\\\n",
       "\t3 & 2015 & Male & 30--38 &  & 13--24 (1-2 yrs) & UKR & RUS & 1 & 1 & 1 & ⋯ & NA & NA & 1 & NA & NA & NA & NA & NA & NA & 1\\\\\n",
       "\t4 & 2015 & Male & 30--38 &  & 13--24 (1-2 yrs) & UKR & RUS & 1 & 1 & 1 & ⋯ & NA & NA & 1 & NA & NA & NA & NA & NA & NA & 1\\\\\n",
       "\t5 & 2015 & Male & 30--38 &  & 13--24 (1-2 yrs) & UKR & RUS & 1 & 1 & 1 & ⋯ & NA & NA & 1 & NA & NA & NA & NA & NA & NA & 1\\\\\n",
       "\t6 & 2015 & Male & 30--38 &  & 13--24 (1-2 yrs) & UKR & RUS & 1 & 1 & 1 & ⋯ & NA & NA & 1 & NA & NA & NA & NA & NA & NA & 1\\\\\n",
       "\\end{tabular}\n"
      ],
      "text/markdown": [
       "\n",
       "A data.frame: 6 × 37\n",
       "\n",
       "| <!--/--> | yearOfRegistration &lt;int&gt; | gender &lt;chr&gt; | ageBroad &lt;chr&gt; | majorityStatusAtExploit &lt;chr&gt; | traffickMonths &lt;chr&gt; | citizenship &lt;chr&gt; | CountryOfExploitation &lt;chr&gt; | meansOfControlDebtBondage &lt;int&gt; | meansOfControlTakesEarnings &lt;int&gt; | meansOfControlThreats &lt;int&gt; | ⋯ ⋯ | typeOfLabourDomesticWork &lt;int&gt; | typeOfLabourHospitality &lt;int&gt; | typeOfLabourOther &lt;int&gt; | typeOfSexProstitution &lt;int&gt; | typeOfSexPornography &lt;int&gt; | typeOfSexOther &lt;int&gt; | recruiterRelationIntimatePartner &lt;int&gt; | recruiterRelationFriend &lt;int&gt; | recruiterRelationFamily &lt;int&gt; | recruiterRelationOther &lt;int&gt; |\n",
       "|---|---|---|---|---|---|---|---|---|---|---|---|---|---|---|---|---|---|---|---|---|---|\n",
       "| 1 | 2015 | Male | 30--38 | <!----> | 13--24 (1-2 yrs) | UKR | RUS | 1 | 1 | 1 | ⋯ | NA | NA | 1 | NA | NA | NA | NA | NA | NA | 1 |\n",
       "| 2 | 2015 | Male | 30--38 | <!----> | 13--24 (1-2 yrs) | UKR | RUS | 1 | 1 | 1 | ⋯ | NA | NA | 1 | NA | NA | NA | NA | NA | NA | 1 |\n",
       "| 3 | 2015 | Male | 30--38 | <!----> | 13--24 (1-2 yrs) | UKR | RUS | 1 | 1 | 1 | ⋯ | NA | NA | 1 | NA | NA | NA | NA | NA | NA | 1 |\n",
       "| 4 | 2015 | Male | 30--38 | <!----> | 13--24 (1-2 yrs) | UKR | RUS | 1 | 1 | 1 | ⋯ | NA | NA | 1 | NA | NA | NA | NA | NA | NA | 1 |\n",
       "| 5 | 2015 | Male | 30--38 | <!----> | 13--24 (1-2 yrs) | UKR | RUS | 1 | 1 | 1 | ⋯ | NA | NA | 1 | NA | NA | NA | NA | NA | NA | 1 |\n",
       "| 6 | 2015 | Male | 30--38 | <!----> | 13--24 (1-2 yrs) | UKR | RUS | 1 | 1 | 1 | ⋯ | NA | NA | 1 | NA | NA | NA | NA | NA | NA | 1 |\n",
       "\n"
      ],
      "text/plain": [
       "  yearOfRegistration gender ageBroad majorityStatusAtExploit traffickMonths  \n",
       "1 2015               Male   30--38                           13--24 (1-2 yrs)\n",
       "2 2015               Male   30--38                           13--24 (1-2 yrs)\n",
       "3 2015               Male   30--38                           13--24 (1-2 yrs)\n",
       "4 2015               Male   30--38                           13--24 (1-2 yrs)\n",
       "5 2015               Male   30--38                           13--24 (1-2 yrs)\n",
       "6 2015               Male   30--38                           13--24 (1-2 yrs)\n",
       "  citizenship CountryOfExploitation meansOfControlDebtBondage\n",
       "1 UKR         RUS                   1                        \n",
       "2 UKR         RUS                   1                        \n",
       "3 UKR         RUS                   1                        \n",
       "4 UKR         RUS                   1                        \n",
       "5 UKR         RUS                   1                        \n",
       "6 UKR         RUS                   1                        \n",
       "  meansOfControlTakesEarnings meansOfControlThreats ⋯ typeOfLabourDomesticWork\n",
       "1 1                           1                     ⋯ NA                      \n",
       "2 1                           1                     ⋯ NA                      \n",
       "3 1                           1                     ⋯ NA                      \n",
       "4 1                           1                     ⋯ NA                      \n",
       "5 1                           1                     ⋯ NA                      \n",
       "6 1                           1                     ⋯ NA                      \n",
       "  typeOfLabourHospitality typeOfLabourOther typeOfSexProstitution\n",
       "1 NA                      1                 NA                   \n",
       "2 NA                      1                 NA                   \n",
       "3 NA                      1                 NA                   \n",
       "4 NA                      1                 NA                   \n",
       "5 NA                      1                 NA                   \n",
       "6 NA                      1                 NA                   \n",
       "  typeOfSexPornography typeOfSexOther recruiterRelationIntimatePartner\n",
       "1 NA                   NA             NA                              \n",
       "2 NA                   NA             NA                              \n",
       "3 NA                   NA             NA                              \n",
       "4 NA                   NA             NA                              \n",
       "5 NA                   NA             NA                              \n",
       "6 NA                   NA             NA                              \n",
       "  recruiterRelationFriend recruiterRelationFamily recruiterRelationOther\n",
       "1 NA                      NA                      1                     \n",
       "2 NA                      NA                      1                     \n",
       "3 NA                      NA                      1                     \n",
       "4 NA                      NA                      1                     \n",
       "5 NA                      NA                      1                     \n",
       "6 NA                      NA                      1                     "
      ]
     },
     "metadata": {},
     "output_type": "display_data"
    }
   ],
   "source": [
    "#data file needs to be in the wd\n",
    "df <- read.table(file = 'CTDC_synthetic_20210825.tsv', sep = '\\t', header = TRUE)\n",
    "head(df)"
   ]
  },
  {
   "cell_type": "code",
   "execution_count": 4,
   "id": "9f9b0cdd",
   "metadata": {},
   "outputs": [
    {
     "data": {
      "text/html": [
       "<table class=\"dataframe\">\n",
       "<caption>A data.frame: 6 × 38</caption>\n",
       "<thead>\n",
       "\t<tr><th></th><th scope=col>yearOfRegistration</th><th scope=col>gender</th><th scope=col>ageBroad</th><th scope=col>majorityStatusAtExploit</th><th scope=col>traffickMonths</th><th scope=col>citizenship</th><th scope=col>CountryOfExploitation</th><th scope=col>meansOfControlDebtBondage</th><th scope=col>meansOfControlTakesEarnings</th><th scope=col>meansOfControlThreats</th><th scope=col>⋯</th><th scope=col>typeOfLabourHospitality</th><th scope=col>typeOfLabourOther</th><th scope=col>typeOfSexProstitution</th><th scope=col>typeOfSexPornography</th><th scope=col>typeOfSexOther</th><th scope=col>recruiterRelationIntimatePartner</th><th scope=col>recruiterRelationFriend</th><th scope=col>recruiterRelationFamily</th><th scope=col>recruiterRelationOther</th><th scope=col>index</th></tr>\n",
       "\t<tr><th></th><th scope=col>&lt;int&gt;</th><th scope=col>&lt;chr&gt;</th><th scope=col>&lt;chr&gt;</th><th scope=col>&lt;chr&gt;</th><th scope=col>&lt;chr&gt;</th><th scope=col>&lt;chr&gt;</th><th scope=col>&lt;chr&gt;</th><th scope=col>&lt;int&gt;</th><th scope=col>&lt;int&gt;</th><th scope=col>&lt;int&gt;</th><th scope=col>⋯</th><th scope=col>&lt;int&gt;</th><th scope=col>&lt;int&gt;</th><th scope=col>&lt;int&gt;</th><th scope=col>&lt;int&gt;</th><th scope=col>&lt;int&gt;</th><th scope=col>&lt;dbl&gt;</th><th scope=col>&lt;dbl&gt;</th><th scope=col>&lt;dbl&gt;</th><th scope=col>&lt;int&gt;</th><th scope=col>&lt;int&gt;</th></tr>\n",
       "</thead>\n",
       "<tbody>\n",
       "\t<tr><th scope=row>1</th><td>2009</td><td>Female</td><td>24--26</td><td>Adult</td><td>0--12 (0-1 yr)</td><td>UKR</td><td>RUS</td><td>1</td><td>1</td><td>1</td><td>⋯</td><td>NA</td><td>NA</td><td>NA</td><td>NA</td><td>NA</td><td>0</td><td>0</td><td>0</td><td>NA</td><td>1</td></tr>\n",
       "\t<tr><th scope=row>2</th><td>2009</td><td>Female</td><td>24--26</td><td>Adult</td><td>0--12 (0-1 yr)</td><td>UKR</td><td>RUS</td><td>1</td><td>1</td><td>1</td><td>⋯</td><td>NA</td><td>NA</td><td>NA</td><td>NA</td><td>NA</td><td>0</td><td>0</td><td>0</td><td>NA</td><td>2</td></tr>\n",
       "\t<tr><th scope=row>3</th><td>2009</td><td>Female</td><td>24--26</td><td>Adult</td><td>0--12 (0-1 yr)</td><td>UKR</td><td>RUS</td><td>1</td><td>1</td><td>1</td><td>⋯</td><td>NA</td><td>NA</td><td>NA</td><td>NA</td><td>NA</td><td>0</td><td>0</td><td>0</td><td>NA</td><td>3</td></tr>\n",
       "\t<tr><th scope=row>4</th><td>2009</td><td>Female</td><td>24--26</td><td>Adult</td><td>0--12 (0-1 yr)</td><td>UKR</td><td>RUS</td><td>1</td><td>1</td><td>1</td><td>⋯</td><td>NA</td><td>NA</td><td>NA</td><td>NA</td><td>NA</td><td>0</td><td>0</td><td>0</td><td>NA</td><td>4</td></tr>\n",
       "\t<tr><th scope=row>5</th><td>2009</td><td>Female</td><td>24--26</td><td>Adult</td><td>0--12 (0-1 yr)</td><td>UKR</td><td>RUS</td><td>1</td><td>1</td><td>1</td><td>⋯</td><td>NA</td><td>NA</td><td>NA</td><td>NA</td><td>NA</td><td>0</td><td>0</td><td>0</td><td>NA</td><td>5</td></tr>\n",
       "\t<tr><th scope=row>6</th><td>2009</td><td>Female</td><td>24--26</td><td>Adult</td><td>0--12 (0-1 yr)</td><td>UKR</td><td>RUS</td><td>1</td><td>1</td><td>1</td><td>⋯</td><td>NA</td><td>NA</td><td>NA</td><td>NA</td><td>NA</td><td>0</td><td>0</td><td>0</td><td>NA</td><td>6</td></tr>\n",
       "</tbody>\n",
       "</table>\n"
      ],
      "text/latex": [
       "A data.frame: 6 × 38\n",
       "\\begin{tabular}{r|lllllllllllllllllllll}\n",
       "  & yearOfRegistration & gender & ageBroad & majorityStatusAtExploit & traffickMonths & citizenship & CountryOfExploitation & meansOfControlDebtBondage & meansOfControlTakesEarnings & meansOfControlThreats & ⋯ & typeOfLabourHospitality & typeOfLabourOther & typeOfSexProstitution & typeOfSexPornography & typeOfSexOther & recruiterRelationIntimatePartner & recruiterRelationFriend & recruiterRelationFamily & recruiterRelationOther & index\\\\\n",
       "  & <int> & <chr> & <chr> & <chr> & <chr> & <chr> & <chr> & <int> & <int> & <int> & ⋯ & <int> & <int> & <int> & <int> & <int> & <dbl> & <dbl> & <dbl> & <int> & <int>\\\\\n",
       "\\hline\n",
       "\t1 & 2009 & Female & 24--26 & Adult & 0--12 (0-1 yr) & UKR & RUS & 1 & 1 & 1 & ⋯ & NA & NA & NA & NA & NA & 0 & 0 & 0 & NA & 1\\\\\n",
       "\t2 & 2009 & Female & 24--26 & Adult & 0--12 (0-1 yr) & UKR & RUS & 1 & 1 & 1 & ⋯ & NA & NA & NA & NA & NA & 0 & 0 & 0 & NA & 2\\\\\n",
       "\t3 & 2009 & Female & 24--26 & Adult & 0--12 (0-1 yr) & UKR & RUS & 1 & 1 & 1 & ⋯ & NA & NA & NA & NA & NA & 0 & 0 & 0 & NA & 3\\\\\n",
       "\t4 & 2009 & Female & 24--26 & Adult & 0--12 (0-1 yr) & UKR & RUS & 1 & 1 & 1 & ⋯ & NA & NA & NA & NA & NA & 0 & 0 & 0 & NA & 4\\\\\n",
       "\t5 & 2009 & Female & 24--26 & Adult & 0--12 (0-1 yr) & UKR & RUS & 1 & 1 & 1 & ⋯ & NA & NA & NA & NA & NA & 0 & 0 & 0 & NA & 5\\\\\n",
       "\t6 & 2009 & Female & 24--26 & Adult & 0--12 (0-1 yr) & UKR & RUS & 1 & 1 & 1 & ⋯ & NA & NA & NA & NA & NA & 0 & 0 & 0 & NA & 6\\\\\n",
       "\\end{tabular}\n"
      ],
      "text/markdown": [
       "\n",
       "A data.frame: 6 × 38\n",
       "\n",
       "| <!--/--> | yearOfRegistration &lt;int&gt; | gender &lt;chr&gt; | ageBroad &lt;chr&gt; | majorityStatusAtExploit &lt;chr&gt; | traffickMonths &lt;chr&gt; | citizenship &lt;chr&gt; | CountryOfExploitation &lt;chr&gt; | meansOfControlDebtBondage &lt;int&gt; | meansOfControlTakesEarnings &lt;int&gt; | meansOfControlThreats &lt;int&gt; | ⋯ ⋯ | typeOfLabourHospitality &lt;int&gt; | typeOfLabourOther &lt;int&gt; | typeOfSexProstitution &lt;int&gt; | typeOfSexPornography &lt;int&gt; | typeOfSexOther &lt;int&gt; | recruiterRelationIntimatePartner &lt;dbl&gt; | recruiterRelationFriend &lt;dbl&gt; | recruiterRelationFamily &lt;dbl&gt; | recruiterRelationOther &lt;int&gt; | index &lt;int&gt; |\n",
       "|---|---|---|---|---|---|---|---|---|---|---|---|---|---|---|---|---|---|---|---|---|---|\n",
       "| 1 | 2009 | Female | 24--26 | Adult | 0--12 (0-1 yr) | UKR | RUS | 1 | 1 | 1 | ⋯ | NA | NA | NA | NA | NA | 0 | 0 | 0 | NA | 1 |\n",
       "| 2 | 2009 | Female | 24--26 | Adult | 0--12 (0-1 yr) | UKR | RUS | 1 | 1 | 1 | ⋯ | NA | NA | NA | NA | NA | 0 | 0 | 0 | NA | 2 |\n",
       "| 3 | 2009 | Female | 24--26 | Adult | 0--12 (0-1 yr) | UKR | RUS | 1 | 1 | 1 | ⋯ | NA | NA | NA | NA | NA | 0 | 0 | 0 | NA | 3 |\n",
       "| 4 | 2009 | Female | 24--26 | Adult | 0--12 (0-1 yr) | UKR | RUS | 1 | 1 | 1 | ⋯ | NA | NA | NA | NA | NA | 0 | 0 | 0 | NA | 4 |\n",
       "| 5 | 2009 | Female | 24--26 | Adult | 0--12 (0-1 yr) | UKR | RUS | 1 | 1 | 1 | ⋯ | NA | NA | NA | NA | NA | 0 | 0 | 0 | NA | 5 |\n",
       "| 6 | 2009 | Female | 24--26 | Adult | 0--12 (0-1 yr) | UKR | RUS | 1 | 1 | 1 | ⋯ | NA | NA | NA | NA | NA | 0 | 0 | 0 | NA | 6 |\n",
       "\n"
      ],
      "text/plain": [
       "  yearOfRegistration gender ageBroad majorityStatusAtExploit traffickMonths\n",
       "1 2009               Female 24--26   Adult                   0--12 (0-1 yr)\n",
       "2 2009               Female 24--26   Adult                   0--12 (0-1 yr)\n",
       "3 2009               Female 24--26   Adult                   0--12 (0-1 yr)\n",
       "4 2009               Female 24--26   Adult                   0--12 (0-1 yr)\n",
       "5 2009               Female 24--26   Adult                   0--12 (0-1 yr)\n",
       "6 2009               Female 24--26   Adult                   0--12 (0-1 yr)\n",
       "  citizenship CountryOfExploitation meansOfControlDebtBondage\n",
       "1 UKR         RUS                   1                        \n",
       "2 UKR         RUS                   1                        \n",
       "3 UKR         RUS                   1                        \n",
       "4 UKR         RUS                   1                        \n",
       "5 UKR         RUS                   1                        \n",
       "6 UKR         RUS                   1                        \n",
       "  meansOfControlTakesEarnings meansOfControlThreats ⋯ typeOfLabourHospitality\n",
       "1 1                           1                     ⋯ NA                     \n",
       "2 1                           1                     ⋯ NA                     \n",
       "3 1                           1                     ⋯ NA                     \n",
       "4 1                           1                     ⋯ NA                     \n",
       "5 1                           1                     ⋯ NA                     \n",
       "6 1                           1                     ⋯ NA                     \n",
       "  typeOfLabourOther typeOfSexProstitution typeOfSexPornography typeOfSexOther\n",
       "1 NA                NA                    NA                   NA            \n",
       "2 NA                NA                    NA                   NA            \n",
       "3 NA                NA                    NA                   NA            \n",
       "4 NA                NA                    NA                   NA            \n",
       "5 NA                NA                    NA                   NA            \n",
       "6 NA                NA                    NA                   NA            \n",
       "  recruiterRelationIntimatePartner recruiterRelationFriend\n",
       "1 0                                0                      \n",
       "2 0                                0                      \n",
       "3 0                                0                      \n",
       "4 0                                0                      \n",
       "5 0                                0                      \n",
       "6 0                                0                      \n",
       "  recruiterRelationFamily recruiterRelationOther index\n",
       "1 0                       NA                     1    \n",
       "2 0                       NA                     2    \n",
       "3 0                       NA                     3    \n",
       "4 0                       NA                     4    \n",
       "5 0                       NA                     5    \n",
       "6 0                       NA                     6    "
      ]
     },
     "metadata": {},
     "output_type": "display_data"
    }
   ],
   "source": [
    "df <- df %>%\n",
    "  mutate(index = row_number()) %>%\n",
    "  mutate_all(~ifelse(. == \"\", NA, .)) %>%\n",
    "  drop_na(yearOfRegistration) %>%\n",
    "  mutate(index = row_number()) %>%\n",
    "  filter(!is.na(gender)) %>%\n",
    "  filter(!is.na(majorityStatusAtExploit)) %>%\n",
    "  mutate(index = row_number()) %>%\n",
    "  filter(gender == \"Male\" | gender == \"Female\") %>%\n",
    "  mutate(isSexualExploit = ifelse(is.na(isSexualExploit), 0, isSexualExploit)) %>%\n",
    "  mutate(isForcedLabour = ifelse(is.na(isForcedLabour), 0, isForcedLabour)) %>%\n",
    "  mutate(recruiterRelationIntimatePartner = ifelse(is.na(recruiterRelationIntimatePartner), 0, recruiterRelationIntimatePartner)) %>%\n",
    "  mutate(recruiterRelationFriend = ifelse(is.na(recruiterRelationFriend), 0, recruiterRelationFriend)) %>%\n",
    "  mutate(recruiterRelationFamily = ifelse(is.na(recruiterRelationFamily), 0, recruiterRelationFamily))\n",
    "\n",
    "head(df)"
   ]
  },
  {
   "cell_type": "code",
   "execution_count": 18,
   "id": "a0ceb012",
   "metadata": {},
   "outputs": [
    {
     "name": "stderr",
     "output_type": "stream",
     "text": [
      "\u001b[1m\u001b[22m`summarise()` has grouped output by 'citizenship'. You can override using the\n",
      "`.groups` argument.\n"
     ]
    },
    {
     "data": {
      "image/png": "[encoded data removed]",
      "text/plain": [
       "plot without title"
      ]
     },
     "metadata": {
      "image/png": {
       "height": 420,
       "width": 420
      }
     },
     "output_type": "display_data"
    }
   ],
   "source": [
    "heatmap_data <- df %>%\n",
    "  filter(!is.na(citizenship)) %>%\n",
    "  filter(!is.na(CountryOfExploitation)) %>%\n",
    "  group_by(citizenship, CountryOfExploitation) %>%\n",
    "  summarise(count = n()) %>%\n",
    "  ungroup()\n",
    "\n",
    "ggplot(heatmap_data, aes(x = citizenship, y = CountryOfExploitation, fill = log(count))) +\n",
    "  geom_tile() +\n",
    "  scale_fill_gradient(low = \"white\", high = \"brown\") +\n",
    "  theme_minimal() + \n",
    "  theme(axis.text.x = element_text(angle = 90, vjust = 0.5, hjust=1))"
   ]
  },
  {
   "cell_type": "code",
   "execution_count": 6,
   "id": "b9f95ff9",
   "metadata": {},
   "outputs": [
    {
     "data": {
      "text/plain": [
       "\n",
       "Call:\n",
       "glm(formula = isSexualExploit ~ gender + majorityStatusAtExploit + \n",
       "    gender * majorityStatusAtExploit, family = \"binomial\", data = df)\n",
       "\n",
       "Deviance Residuals: \n",
       "    Min       1Q   Median       3Q      Max  \n",
       "-2.0983  -0.1491   0.4843   0.4843   3.0016  \n",
       "\n",
       "Coefficients:\n",
       "                                        Estimate Std. Error z value Pr(>|z|)\n",
       "(Intercept)                              0.19016    0.02190   8.684   <2e-16\n",
       "genderMale                              -4.68387    0.15670 -29.891   <2e-16\n",
       "majorityStatusAtExploitMinor             1.89411    0.03509  53.984   <2e-16\n",
       "genderMale:majorityStatusAtExploitMinor  3.19678    0.16473  19.406   <2e-16\n",
       "                                           \n",
       "(Intercept)                             ***\n",
       "genderMale                              ***\n",
       "majorityStatusAtExploitMinor            ***\n",
       "genderMale:majorityStatusAtExploitMinor ***\n",
       "---\n",
       "Signif. codes:  0 '***' 0.001 '**' 0.01 '*' 0.05 '.' 0.1 ' ' 1\n",
       "\n",
       "(Dispersion parameter for binomial family taken to be 1)\n",
       "\n",
       "    Null deviance: 36500  on 28124  degrees of freedom\n",
       "Residual deviance: 24567  on 28121  degrees of freedom\n",
       "AIC: 24575\n",
       "\n",
       "Number of Fisher Scoring iterations: 7\n"
      ]
     },
     "metadata": {},
     "output_type": "display_data"
    }
   ],
   "source": [
    "model1 <- glm(isSexualExploit ~ gender + majorityStatusAtExploit + gender*majorityStatusAtExploit , df, family = \"binomial\")\n",
    "summary(model1)"
   ]
  },
  {
   "cell_type": "code",
   "execution_count": 7,
   "id": "b29cd4ee",
   "metadata": {},
   "outputs": [
    {
     "data": {
      "text/html": [
       "<style>\n",
       ".dl-inline {width: auto; margin:0; padding: 0}\n",
       ".dl-inline>dt, .dl-inline>dd {float: none; width: auto; display: inline-block}\n",
       ".dl-inline>dt::after {content: \":\\0020\"; padding-right: .5ex}\n",
       ".dl-inline>dt:not(:first-of-type) {padding-left: .5ex}\n",
       "</style><dl class=dl-inline><dt>genderMale</dt><dd>-99.075683723698</dd><dt>majorityStatusAtExploitMinor</dt><dd>564.663930202496</dd><dt>genderMale:majorityStatusAtExploitMinor</dt><dd>2345.37238163107</dd></dl>\n"
      ],
      "text/latex": [
       "\\begin{description*}\n",
       "\\item[genderMale] -99.075683723698\n",
       "\\item[majorityStatusAtExploitMinor] 564.663930202496\n",
       "\\item[genderMale:majorityStatusAtExploitMinor] 2345.37238163107\n",
       "\\end{description*}\n"
      ],
      "text/markdown": [
       "genderMale\n",
       ":   -99.075683723698majorityStatusAtExploitMinor\n",
       ":   564.663930202496genderMale:majorityStatusAtExploitMinor\n",
       ":   2345.37238163107\n",
       "\n"
      ],
      "text/plain": [
       "                             genderMale            majorityStatusAtExploitMinor \n",
       "                              -99.07568                               564.66393 \n",
       "genderMale:majorityStatusAtExploitMinor \n",
       "                             2345.37238 "
      ]
     },
     "metadata": {},
     "output_type": "display_data"
    }
   ],
   "source": [
    "# getting the odds ratio from each coefficient, except the intercept\n",
    "(exp(model1$coefficients[-1])-1) * 100"
   ]
  },
  {
   "cell_type": "code",
   "execution_count": 8,
   "id": "6b4a9ba5",
   "metadata": {},
   "outputs": [
    {
     "data": {
      "text/plain": [
       "\n",
       "Call:\n",
       "glm(formula = isForcedLabour ~ gender + majorityStatusAtExploit + \n",
       "    gender * majorityStatusAtExploit, family = \"binomial\", data = df)\n",
       "\n",
       "Deviance Residuals: \n",
       "    Min       1Q   Median       3Q      Max  \n",
       "-1.7940  -0.7794  -0.3916   0.6682   2.2831  \n",
       "\n",
       "Coefficients:\n",
       "                                        Estimate Std. Error z value Pr(>|z|)\n",
       "(Intercept)                             -0.91521    0.02412  -37.94   <2e-16\n",
       "genderMale                               2.30118    0.04719   48.77   <2e-16\n",
       "majorityStatusAtExploitMinor            -1.61444    0.04079  -39.58   <2e-16\n",
       "genderMale:majorityStatusAtExploitMinor -0.80741    0.07400  -10.91   <2e-16\n",
       "                                           \n",
       "(Intercept)                             ***\n",
       "genderMale                              ***\n",
       "majorityStatusAtExploitMinor            ***\n",
       "genderMale:majorityStatusAtExploitMinor ***\n",
       "---\n",
       "Signif. codes:  0 '***' 0.001 '**' 0.01 '*' 0.05 '.' 0.1 ' ' 1\n",
       "\n",
       "(Dispersion parameter for binomial family taken to be 1)\n",
       "\n",
       "    Null deviance: 31714  on 28124  degrees of freedom\n",
       "Residual deviance: 23745  on 28121  degrees of freedom\n",
       "AIC: 23753\n",
       "\n",
       "Number of Fisher Scoring iterations: 5\n"
      ]
     },
     "metadata": {},
     "output_type": "display_data"
    }
   ],
   "source": [
    "model2 <- glm(isForcedLabour ~ gender + majorityStatusAtExploit + gender*majorityStatusAtExploit , df, family = \"binomial\")\n",
    "summary(model2)"
   ]
  },
  {
   "cell_type": "code",
   "execution_count": 20,
   "id": "1406ae32",
   "metadata": {},
   "outputs": [
    {
     "data": {
      "text/html": [
       "<table class=\"dataframe\">\n",
       "<caption>A data.frame: 6 × 38</caption>\n",
       "<thead>\n",
       "\t<tr><th></th><th scope=col>yearOfRegistration</th><th scope=col>gender</th><th scope=col>ageBroad</th><th scope=col>majorityStatusAtExploit</th><th scope=col>traffickMonths</th><th scope=col>citizenship</th><th scope=col>CountryOfExploitation</th><th scope=col>meansOfControlDebtBondage</th><th scope=col>meansOfControlTakesEarnings</th><th scope=col>meansOfControlThreats</th><th scope=col>⋯</th><th scope=col>typeOfLabourHospitality</th><th scope=col>typeOfLabourOther</th><th scope=col>typeOfSexProstitution</th><th scope=col>typeOfSexPornography</th><th scope=col>typeOfSexOther</th><th scope=col>recruiterRelationIntimatePartner</th><th scope=col>recruiterRelationFriend</th><th scope=col>recruiterRelationFamily</th><th scope=col>recruiterRelationOther</th><th scope=col>index</th></tr>\n",
       "\t<tr><th></th><th scope=col>&lt;int&gt;</th><th scope=col>&lt;chr&gt;</th><th scope=col>&lt;chr&gt;</th><th scope=col>&lt;chr&gt;</th><th scope=col>&lt;chr&gt;</th><th scope=col>&lt;chr&gt;</th><th scope=col>&lt;chr&gt;</th><th scope=col>&lt;int&gt;</th><th scope=col>&lt;int&gt;</th><th scope=col>&lt;int&gt;</th><th scope=col>⋯</th><th scope=col>&lt;int&gt;</th><th scope=col>&lt;int&gt;</th><th scope=col>&lt;int&gt;</th><th scope=col>&lt;int&gt;</th><th scope=col>&lt;int&gt;</th><th scope=col>&lt;dbl&gt;</th><th scope=col>&lt;dbl&gt;</th><th scope=col>&lt;dbl&gt;</th><th scope=col>&lt;int&gt;</th><th scope=col>&lt;int&gt;</th></tr>\n",
       "</thead>\n",
       "<tbody>\n",
       "\t<tr><th scope=row>1</th><td>2019</td><td>Male</td><td>NA</td><td>Adult</td><td>NA</td><td>UKR</td><td>NA </td><td>NA</td><td>1</td><td>1</td><td>⋯</td><td>NA</td><td>NA</td><td>NA</td><td>NA</td><td>NA</td><td>0</td><td>1</td><td>0</td><td>NA</td><td>261</td></tr>\n",
       "\t<tr><th scope=row>2</th><td>2019</td><td>Male</td><td>NA</td><td>Adult</td><td>NA</td><td>UKR</td><td>NA </td><td>NA</td><td>1</td><td>1</td><td>⋯</td><td>NA</td><td>NA</td><td>NA</td><td>NA</td><td>NA</td><td>0</td><td>1</td><td>0</td><td>NA</td><td>262</td></tr>\n",
       "\t<tr><th scope=row>3</th><td>2019</td><td>Male</td><td>NA</td><td>Adult</td><td>NA</td><td>UKR</td><td>NA </td><td>NA</td><td>1</td><td>1</td><td>⋯</td><td>NA</td><td>NA</td><td>NA</td><td>NA</td><td>NA</td><td>0</td><td>1</td><td>0</td><td>NA</td><td>263</td></tr>\n",
       "\t<tr><th scope=row>4</th><td>2019</td><td>Male</td><td>NA</td><td>Adult</td><td>NA</td><td>UKR</td><td>NA </td><td>NA</td><td>1</td><td>1</td><td>⋯</td><td>NA</td><td>NA</td><td>NA</td><td>NA</td><td>NA</td><td>0</td><td>1</td><td>0</td><td>NA</td><td>555</td></tr>\n",
       "\t<tr><th scope=row>5</th><td>2019</td><td>Male</td><td>NA</td><td>Adult</td><td>NA</td><td>UKR</td><td>RUS</td><td>NA</td><td>1</td><td>1</td><td>⋯</td><td>NA</td><td>NA</td><td>NA</td><td>NA</td><td>NA</td><td>0</td><td>1</td><td>0</td><td>NA</td><td>562</td></tr>\n",
       "\t<tr><th scope=row>6</th><td>2019</td><td>Male</td><td>NA</td><td>Adult</td><td>NA</td><td>UKR</td><td>RUS</td><td>NA</td><td>1</td><td>1</td><td>⋯</td><td>NA</td><td>NA</td><td>NA</td><td>NA</td><td>NA</td><td>0</td><td>1</td><td>0</td><td>NA</td><td>563</td></tr>\n",
       "</tbody>\n",
       "</table>\n"
      ],
      "text/latex": [
       "A data.frame: 6 × 38\n",
       "\\begin{tabular}{r|lllllllllllllllllllll}\n",
       "  & yearOfRegistration & gender & ageBroad & majorityStatusAtExploit & traffickMonths & citizenship & CountryOfExploitation & meansOfControlDebtBondage & meansOfControlTakesEarnings & meansOfControlThreats & ⋯ & typeOfLabourHospitality & typeOfLabourOther & typeOfSexProstitution & typeOfSexPornography & typeOfSexOther & recruiterRelationIntimatePartner & recruiterRelationFriend & recruiterRelationFamily & recruiterRelationOther & index\\\\\n",
       "  & <int> & <chr> & <chr> & <chr> & <chr> & <chr> & <chr> & <int> & <int> & <int> & ⋯ & <int> & <int> & <int> & <int> & <int> & <dbl> & <dbl> & <dbl> & <int> & <int>\\\\\n",
       "\\hline\n",
       "\t1 & 2019 & Male & NA & Adult & NA & UKR & NA  & NA & 1 & 1 & ⋯ & NA & NA & NA & NA & NA & 0 & 1 & 0 & NA & 261\\\\\n",
       "\t2 & 2019 & Male & NA & Adult & NA & UKR & NA  & NA & 1 & 1 & ⋯ & NA & NA & NA & NA & NA & 0 & 1 & 0 & NA & 262\\\\\n",
       "\t3 & 2019 & Male & NA & Adult & NA & UKR & NA  & NA & 1 & 1 & ⋯ & NA & NA & NA & NA & NA & 0 & 1 & 0 & NA & 263\\\\\n",
       "\t4 & 2019 & Male & NA & Adult & NA & UKR & NA  & NA & 1 & 1 & ⋯ & NA & NA & NA & NA & NA & 0 & 1 & 0 & NA & 555\\\\\n",
       "\t5 & 2019 & Male & NA & Adult & NA & UKR & RUS & NA & 1 & 1 & ⋯ & NA & NA & NA & NA & NA & 0 & 1 & 0 & NA & 562\\\\\n",
       "\t6 & 2019 & Male & NA & Adult & NA & UKR & RUS & NA & 1 & 1 & ⋯ & NA & NA & NA & NA & NA & 0 & 1 & 0 & NA & 563\\\\\n",
       "\\end{tabular}\n"
      ],
      "text/markdown": [
       "\n",
       "A data.frame: 6 × 38\n",
       "\n",
       "| <!--/--> | yearOfRegistration &lt;int&gt; | gender &lt;chr&gt; | ageBroad &lt;chr&gt; | majorityStatusAtExploit &lt;chr&gt; | traffickMonths &lt;chr&gt; | citizenship &lt;chr&gt; | CountryOfExploitation &lt;chr&gt; | meansOfControlDebtBondage &lt;int&gt; | meansOfControlTakesEarnings &lt;int&gt; | meansOfControlThreats &lt;int&gt; | ⋯ ⋯ | typeOfLabourHospitality &lt;int&gt; | typeOfLabourOther &lt;int&gt; | typeOfSexProstitution &lt;int&gt; | typeOfSexPornography &lt;int&gt; | typeOfSexOther &lt;int&gt; | recruiterRelationIntimatePartner &lt;dbl&gt; | recruiterRelationFriend &lt;dbl&gt; | recruiterRelationFamily &lt;dbl&gt; | recruiterRelationOther &lt;int&gt; | index &lt;int&gt; |\n",
       "|---|---|---|---|---|---|---|---|---|---|---|---|---|---|---|---|---|---|---|---|---|---|\n",
       "| 1 | 2019 | Male | NA | Adult | NA | UKR | NA  | NA | 1 | 1 | ⋯ | NA | NA | NA | NA | NA | 0 | 1 | 0 | NA | 261 |\n",
       "| 2 | 2019 | Male | NA | Adult | NA | UKR | NA  | NA | 1 | 1 | ⋯ | NA | NA | NA | NA | NA | 0 | 1 | 0 | NA | 262 |\n",
       "| 3 | 2019 | Male | NA | Adult | NA | UKR | NA  | NA | 1 | 1 | ⋯ | NA | NA | NA | NA | NA | 0 | 1 | 0 | NA | 263 |\n",
       "| 4 | 2019 | Male | NA | Adult | NA | UKR | NA  | NA | 1 | 1 | ⋯ | NA | NA | NA | NA | NA | 0 | 1 | 0 | NA | 555 |\n",
       "| 5 | 2019 | Male | NA | Adult | NA | UKR | RUS | NA | 1 | 1 | ⋯ | NA | NA | NA | NA | NA | 0 | 1 | 0 | NA | 562 |\n",
       "| 6 | 2019 | Male | NA | Adult | NA | UKR | RUS | NA | 1 | 1 | ⋯ | NA | NA | NA | NA | NA | 0 | 1 | 0 | NA | 563 |\n",
       "\n"
      ],
      "text/plain": [
       "  yearOfRegistration gender ageBroad majorityStatusAtExploit traffickMonths\n",
       "1 2019               Male   NA       Adult                   NA            \n",
       "2 2019               Male   NA       Adult                   NA            \n",
       "3 2019               Male   NA       Adult                   NA            \n",
       "4 2019               Male   NA       Adult                   NA            \n",
       "5 2019               Male   NA       Adult                   NA            \n",
       "6 2019               Male   NA       Adult                   NA            \n",
       "  citizenship CountryOfExploitation meansOfControlDebtBondage\n",
       "1 UKR         NA                    NA                       \n",
       "2 UKR         NA                    NA                       \n",
       "3 UKR         NA                    NA                       \n",
       "4 UKR         NA                    NA                       \n",
       "5 UKR         RUS                   NA                       \n",
       "6 UKR         RUS                   NA                       \n",
       "  meansOfControlTakesEarnings meansOfControlThreats ⋯ typeOfLabourHospitality\n",
       "1 1                           1                     ⋯ NA                     \n",
       "2 1                           1                     ⋯ NA                     \n",
       "3 1                           1                     ⋯ NA                     \n",
       "4 1                           1                     ⋯ NA                     \n",
       "5 1                           1                     ⋯ NA                     \n",
       "6 1                           1                     ⋯ NA                     \n",
       "  typeOfLabourOther typeOfSexProstitution typeOfSexPornography typeOfSexOther\n",
       "1 NA                NA                    NA                   NA            \n",
       "2 NA                NA                    NA                   NA            \n",
       "3 NA                NA                    NA                   NA            \n",
       "4 NA                NA                    NA                   NA            \n",
       "5 NA                NA                    NA                   NA            \n",
       "6 NA                NA                    NA                   NA            \n",
       "  recruiterRelationIntimatePartner recruiterRelationFriend\n",
       "1 0                                1                      \n",
       "2 0                                1                      \n",
       "3 0                                1                      \n",
       "4 0                                1                      \n",
       "5 0                                1                      \n",
       "6 0                                1                      \n",
       "  recruiterRelationFamily recruiterRelationOther index\n",
       "1 0                       NA                     261  \n",
       "2 0                       NA                     262  \n",
       "3 0                       NA                     263  \n",
       "4 0                       NA                     555  \n",
       "5 0                       NA                     562  \n",
       "6 0                       NA                     563  "
      ]
     },
     "metadata": {},
     "output_type": "display_data"
    }
   ],
   "source": [
    "#We don't have labels for all the cases so for this case we filtered to have a df with valid data\n",
    "df2 <- df %>%\n",
    "  filter(recruiterRelationIntimatePartner==1|recruiterRelationFriend==1|recruiterRelationFamily==1)\n",
    "\n",
    "head(df2)"
   ]
  },
  {
   "cell_type": "code",
   "execution_count": 24,
   "id": "8d08e3fc",
   "metadata": {},
   "outputs": [
    {
     "data": {
      "text/plain": [
       "\n",
       "Call:\n",
       "glm(formula = recruiterRelationIntimatePartner ~ gender + majorityStatusAtExploit, \n",
       "    family = \"binomial\", data = df2)\n",
       "\n",
       "Deviance Residuals: \n",
       "    Min       1Q   Median       3Q      Max  \n",
       "-1.3712  -0.6999  -0.6999   0.9953   3.3614  \n",
       "\n",
       "Coefficients:\n",
       "                             Estimate Std. Error z value Pr(>|z|)    \n",
       "(Intercept)                   0.44476    0.05871   7.575 3.58e-14 ***\n",
       "genderMale                   -6.09070    0.99962  -6.093 1.11e-09 ***\n",
       "majorityStatusAtExploitMinor -1.72671    0.07675 -22.496  < 2e-16 ***\n",
       "---\n",
       "Signif. codes:  0 '***' 0.001 '**' 0.01 '*' 0.05 '.' 0.1 ' ' 1\n",
       "\n",
       "(Dispersion parameter for binomial family taken to be 1)\n",
       "\n",
       "    Null deviance: 5152.6  on 4217  degrees of freedom\n",
       "Residual deviance: 4158.1  on 4215  degrees of freedom\n",
       "AIC: 4164.1\n",
       "\n",
       "Number of Fisher Scoring iterations: 8\n"
      ]
     },
     "metadata": {},
     "output_type": "display_data"
    }
   ],
   "source": [
    "model3 <- glm(recruiterRelationIntimatePartner ~ gender + majorityStatusAtExploit , df2, family = \"binomial\")\n",
    "summary(model3)"
   ]
  },
  {
   "cell_type": "code",
   "execution_count": 25,
   "id": "a3e1e84d",
   "metadata": {},
   "outputs": [
    {
     "data": {
      "text/plain": [
       "\n",
       "Call:\n",
       "glm(formula = recruiterRelationFriend ~ gender + majorityStatusAtExploit + \n",
       "    gender * majorityStatusAtExploit, family = \"binomial\", data = df2)\n",
       "\n",
       "Deviance Residuals: \n",
       "    Min       1Q   Median       3Q      Max  \n",
       "-3.2788  -0.4538  -0.4538  -0.0724   3.4483  \n",
       "\n",
       "Coefficients:\n",
       "                                        Estimate Std. Error z value Pr(>|z|)\n",
       "(Intercept)                             -0.58064    0.05974  -9.720  < 2e-16\n",
       "genderMale                               5.95128    1.00410   5.927 3.09e-09\n",
       "majorityStatusAtExploitMinor            -1.64087    0.09102 -18.027  < 2e-16\n",
       "genderMale:majorityStatusAtExploitMinor -9.67257    1.41963  -6.813 9.53e-12\n",
       "                                           \n",
       "(Intercept)                             ***\n",
       "genderMale                              ***\n",
       "majorityStatusAtExploitMinor            ***\n",
       "genderMale:majorityStatusAtExploitMinor ***\n",
       "---\n",
       "Signif. codes:  0 '***' 0.001 '**' 0.01 '*' 0.05 '.' 0.1 ' ' 1\n",
       "\n",
       "(Dispersion parameter for binomial family taken to be 1)\n",
       "\n",
       "    Null deviance: 4341.6  on 4217  degrees of freedom\n",
       "Residual deviance: 3155.4  on 4214  degrees of freedom\n",
       "AIC: 3163.4\n",
       "\n",
       "Number of Fisher Scoring iterations: 8\n"
      ]
     },
     "metadata": {},
     "output_type": "display_data"
    }
   ],
   "source": [
    "model4 <- glm(recruiterRelationFriend ~ gender + majorityStatusAtExploit + gender*majorityStatusAtExploit , df2, family = \"binomial\")\n",
    "summary(model4)"
   ]
  },
  {
   "cell_type": "code",
   "execution_count": 27,
   "id": "d81f943a",
   "metadata": {},
   "outputs": [
    {
     "data": {
      "text/plain": [
       "\n",
       "Call:\n",
       "glm(formula = recruiterRelationFamily ~ majorityStatusAtExploit, \n",
       "    family = \"binomial\", data = df2)\n",
       "\n",
       "Deviance Residuals: \n",
       "    Min       1Q   Median       3Q      Max  \n",
       "-1.6147  -0.2348  -0.2348   0.7960   2.6850  \n",
       "\n",
       "Coefficients:\n",
       "                             Estimate Std. Error z value Pr(>|z|)    \n",
       "(Intercept)                   -3.5771     0.1624  -22.03   <2e-16 ***\n",
       "majorityStatusAtExploitMinor   4.5639     0.1678   27.19   <2e-16 ***\n",
       "---\n",
       "Signif. codes:  0 '***' 0.001 '**' 0.01 '*' 0.05 '.' 0.1 ' ' 1\n",
       "\n",
       "(Dispersion parameter for binomial family taken to be 1)\n",
       "\n",
       "    Null deviance: 5845.7  on 4217  degrees of freedom\n",
       "Residual deviance: 3614.2  on 4216  degrees of freedom\n",
       "AIC: 3618.2\n",
       "\n",
       "Number of Fisher Scoring iterations: 6\n"
      ]
     },
     "metadata": {},
     "output_type": "display_data"
    }
   ],
   "source": [
    "model5 <- glm(recruiterRelationFamily ~ majorityStatusAtExploit , df2, family = \"binomial\")\n",
    "summary(model5)"
   ]
  },
  {
   "cell_type": "code",
   "execution_count": null,
   "id": "c862f93d",
   "metadata": {},
   "outputs": [],
   "source": []
  }
 ],
 "metadata": {
  "kernelspec": {
   "display_name": "R",
   "language": "R",
   "name": "ir"
  },
  "language_info": {
   "codemirror_mode": "r",
   "file_extension": ".r",
   "mimetype": "text/x-r-source",
   "name": "R",
   "pygments_lexer": "r",
   "version": "4.2.0"
  }
 },
 "nbformat": 4,
 "nbformat_minor": 5
}
